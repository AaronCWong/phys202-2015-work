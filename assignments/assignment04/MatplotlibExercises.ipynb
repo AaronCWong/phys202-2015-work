{
 "cells": [
  {
   "cell_type": "markdown",
   "metadata": {},
   "source": [
    "# Visualization 1: Matplotlib Basics Exercises"
   ]
  },
  {
   "cell_type": "code",
   "execution_count": 48,
   "metadata": {
    "collapsed": false
   },
   "outputs": [],
   "source": [
    "%matplotlib inline\n",
    "import matplotlib.pyplot as plt\n",
    "import numpy as np"
   ]
  },
  {
   "cell_type": "markdown",
   "metadata": {},
   "source": [
    "## Scatter plots"
   ]
  },
  {
   "cell_type": "markdown",
   "metadata": {},
   "source": [
    "Learn how to use Matplotlib's `plt.scatter` function to make a 2d scatter plot.\n",
    "\n",
    "* Generate random data using `np.random.randn`.\n",
    "* Style the markers (color, size, shape, alpha) appropriately.\n",
    "* Include an x and y label and title."
   ]
  },
  {
   "cell_type": "code",
   "execution_count": 65,
   "metadata": {
    "collapsed": false
   },
   "outputs": [
    {
     "data": {
      "image/png": "[encoded data removed]",
      "text/plain": [
       "<matplotlib.figure.Figure at 0x7f31ccf8ef10>"
      ]
     },
     "metadata": {},
     "output_type": "display_data"
    }
   ],
   "source": [
    "x = np.random.randn(100)\n",
    "y = np.random.randn(100)\n",
    "plt.scatter(x,y, s = 20, c = 'b')\n",
    "plt.xlabel('Random Number 2')\n",
    "plt.ylabel('Random Number')\n",
    "plt.title('Random 2d Scatter Plot')\n",
    "axis = plt.gca()\n",
    "axis.spines['top'].set_visible(False)\n",
    "axis.spines['right'].set_visible(False)\n",
    "axis.get_xaxis().tick_bottom()\n",
    "axis.get_yaxis().tick_left()\n",
    "plt.tight_layout()"
   ]
  },
  {
   "cell_type": "markdown",
   "metadata": {},
   "source": [
    "## Histogram"
   ]
  },
  {
   "cell_type": "markdown",
   "metadata": {},
   "source": [
    "Learn how to use Matplotlib's `plt.hist` function to make a 1d histogram.\n",
    "\n",
    "* Generate randpom data using `np.random.randn`.\n",
    "* Figure out how to set the number of histogram bins and other style options.\n",
    "* Include an x and y label and title."
   ]
  },
  {
   "cell_type": "code",
   "execution_count": 66,
   "metadata": {
    "collapsed": false
   },
   "outputs": [
    {
     "data": {
      "text/plain": [
       "<matplotlib.text.Text at 0x7f31cc0844d0>"
      ]
     },
     "execution_count": 66,
     "metadata": {},
     "output_type": "execute_result"
    },
    {
     "data": {
      "image/png": "[encoded data removed]",
      "text/plain": [
       "<matplotlib.figure.Figure at 0x7f31cc384150>"
      ]
     },
     "metadata": {},
     "output_type": "display_data"
    }
   ],
   "source": [
    "x = np.random.randn(10)\n",
    "\n",
    "plt.hist(x,4)\n",
    "plt.xlabel('X value')\n",
    "plt.ylabel('Y value')\n",
    "plt.title('Random Histogram Bins')\n"
   ]
  },
  {
   "cell_type": "code",
   "execution_count": null,
   "metadata": {
    "collapsed": true
   },
   "outputs": [],
   "source": []
  }
 ],
 "metadata": {
  "kernelspec": {
   "display_name": "Python 2",
   "language": "python",
   "name": "python2"
  },
  "language_info": {
   "codemirror_mode": {
    "name": "ipython",
    "version": 2
   },
   "file_extension": ".py",
   "mimetype": "text/x-python",
   "name": "python",
   "nbconvert_exporter": "python",
   "pygments_lexer": "ipython2",
   "version": "2.7.6"
  }
 },
 "nbformat": 4,
 "nbformat_minor": 0
}
