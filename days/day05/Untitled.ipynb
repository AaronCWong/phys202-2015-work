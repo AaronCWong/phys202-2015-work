{
 "cells": [
  {
   "cell_type": "code",
   "execution_count": null,
   "metadata": {
    "collapsed": false
   },
   "outputs": [],
   "source": [
    "%matplotlib inline\n",
    "from matplotlib import pyplot as plt\n",
    "import seaborn as sns"
   ]
  },
  {
   "cell_type": "code",
   "execution_count": 4,
   "metadata": {
    "collapsed": false
   },
   "outputs": [],
   "source": [
    "import antipackage\n",
    "from github.ellisonbg.misc import vizarray as va"
   ]
  },
  {
   "cell_type": "code",
   "execution_count": 5,
   "metadata": {
    "collapsed": false
   },
   "outputs": [],
   "source": [
    "import numpy as np"
   ]
  },
  {
   "cell_type": "code",
   "execution_count": 15,
   "metadata": {
    "collapsed": false
   },
   "outputs": [],
   "source": [
    "data = [0.0,2,4,6,10,12,100]\n",
    "a = np.array(data)"
   ]
  },
  {
   "cell_type": "code",
   "execution_count": 16,
   "metadata": {
    "collapsed": false
   },
   "outputs": [
    {
     "data": {
      "text/plain": [
       "numpy.ndarray"
      ]
     },
     "execution_count": 16,
     "metadata": {},
     "output_type": "execute_result"
    }
   ],
   "source": [
    "type(a)"
   ]
  },
  {
   "cell_type": "code",
   "execution_count": 17,
   "metadata": {
    "collapsed": false
   },
   "outputs": [
    {
     "data": {
      "text/plain": [
       "array([   0.,    2.,    4.,    6.,   10.,   12.,  100.])"
      ]
     },
     "execution_count": 17,
     "metadata": {},
     "output_type": "execute_result"
    }
   ],
   "source": [
    "a"
   ]
  },
  {
   "cell_type": "code",
   "execution_count": 18,
   "metadata": {
    "collapsed": false
   },
   "outputs": [
    {
     "data": {
      "text/html": [
       "<style type=\"text/css\">table.blockgrid {border: none;} .blockgrid tr {border: none;} .blockgrid td {padding: 0px;} #blocks5e03148e-cce7-4e9d-ba21-2874754e0581 td {border: 1px solid white;}</style><table id=\"blocks5e03148e-cce7-4e9d-ba21-2874754e0581\" class=\"blockgrid\"><tbody><tr><td title=\"Index: [0, 0]&#10;Color: (247, 251, 255)\" style=\"width: 30px; height: 30px;background-color: rgb(247, 251, 255);\"></td><td title=\"Index: [0, 1]&#10;Color: (243, 248, 254)\" style=\"width: 30px; height: 30px;background-color: rgb(243, 248, 254);\"></td><td title=\"Index: [0, 2]&#10;Color: (239, 246, 252)\" style=\"width: 30px; height: 30px;background-color: rgb(239, 246, 252);\"></td><td title=\"Index: [0, 3]&#10;Color: (235, 243, 251)\" style=\"width: 30px; height: 30px;background-color: rgb(235, 243, 251);\"></td><td title=\"Index: [0, 4]&#10;Color: (227, 238, 249)\" style=\"width: 30px; height: 30px;background-color: rgb(227, 238, 249);\"></td><td title=\"Index: [0, 5]&#10;Color: (223, 236, 247)\" style=\"width: 30px; height: 30px;background-color: rgb(223, 236, 247);\"></td><td title=\"Index: [0, 6]&#10;Color: (8, 48, 107)\" style=\"width: 30px; height: 30px;background-color: rgb(8, 48, 107);\"></td></tr></tbody></table>"
      ],
      "text/plain": [
       "<ipythonblocks.ipythonblocks.BlockGrid at 0x7fab6ae14510>"
      ]
     },
     "execution_count": 18,
     "metadata": {},
     "output_type": "execute_result"
    }
   ],
   "source": [
    "va.vizarray(a)"
   ]
  },
  {
   "cell_type": "code",
   "execution_count": 19,
   "metadata": {
    "collapsed": false
   },
   "outputs": [
    {
     "data": {
      "text/plain": [
       "(7,)"
      ]
     },
     "execution_count": 19,
     "metadata": {},
     "output_type": "execute_result"
    }
   ],
   "source": [
    "a.shape"
   ]
  },
  {
   "cell_type": "code",
   "execution_count": 20,
   "metadata": {
    "collapsed": false
   },
   "outputs": [
    {
     "data": {
      "text/plain": [
       "1"
      ]
     },
     "execution_count": 20,
     "metadata": {},
     "output_type": "execute_result"
    }
   ],
   "source": [
    "a.ndim"
   ]
  },
  {
   "cell_type": "code",
   "execution_count": 21,
   "metadata": {
    "collapsed": false
   },
   "outputs": [
    {
     "data": {
      "text/plain": [
       "7"
      ]
     },
     "execution_count": 21,
     "metadata": {},
     "output_type": "execute_result"
    }
   ],
   "source": [
    "a.size"
   ]
  },
  {
   "cell_type": "code",
   "execution_count": 22,
   "metadata": {
    "collapsed": false
   },
   "outputs": [
    {
     "data": {
      "text/plain": [
       "56"
      ]
     },
     "execution_count": 22,
     "metadata": {},
     "output_type": "execute_result"
    }
   ],
   "source": [
    "a.nbytes"
   ]
  },
  {
   "cell_type": "code",
   "execution_count": 23,
   "metadata": {
    "collapsed": false
   },
   "outputs": [
    {
     "data": {
      "text/plain": [
       "dtype('float64')"
      ]
     },
     "execution_count": 23,
     "metadata": {},
     "output_type": "execute_result"
    }
   ],
   "source": [
    "a.dtype"
   ]
  },
  {
   "cell_type": "code",
   "execution_count": 36,
   "metadata": {
    "collapsed": true
   },
   "outputs": [],
   "source": [
    "data = [5,5,5,5,2,2,2,2,2,2,2],[5,5,5,5,0,0,0,0,0,0,0],[5,5,5,5,2,2,2,2,2,2,2],[5,5,5,5,0,0,0,0,0,0,0],[2,2,2,2,2,2,2,2,2,2,2],[0,0,0,0,0,0,0,0,0,0,0],[2,2,2,2,2,2,2,2,2,2,2],[0,0,0,0,0,0,0,0,0,0,0]\n",
    "b = np.array(data)"
   ]
  },
  {
   "cell_type": "code",
   "execution_count": 37,
   "metadata": {
    "collapsed": false
   },
   "outputs": [
    {
     "data": {
      "text/plain": [
       "array([[5, 5, 5, 5, 2, 2, 2, 2, 2, 2, 2],\n",
       "       [5, 5, 5, 5, 0, 0, 0, 0, 0, 0, 0],\n",
       "       [5, 5, 5, 5, 2, 2, 2, 2, 2, 2, 2],\n",
       "       [5, 5, 5, 5, 0, 0, 0, 0, 0, 0, 0],\n",
       "       [2, 2, 2, 2, 2, 2, 2, 2, 2, 2, 2],\n",
       "       [0, 0, 0, 0, 0, 0, 0, 0, 0, 0, 0],\n",
       "       [2, 2, 2, 2, 2, 2, 2, 2, 2, 2, 2],\n",
       "       [0, 0, 0, 0, 0, 0, 0, 0, 0, 0, 0]])"
      ]
     },
     "execution_count": 37,
     "metadata": {},
     "output_type": "execute_result"
    }
   ],
   "source": [
    "b"
   ]
  },
  {
   "cell_type": "code",
   "execution_count": 38,
   "metadata": {
    "collapsed": false
   },
   "outputs": [
    {
     "data": {
      "text/html": [
       "<style type=\"text/css\">table.blockgrid {border: none;} .blockgrid tr {border: none;} .blockgrid td {padding: 0px;} #blockscad4eb37-c233-4b49-bf02-d7200c290508 td {border: 1px solid white;}</style><table id=\"blockscad4eb37-c233-4b49-bf02-d7200c290508\" class=\"blockgrid\"><tbody><tr><td title=\"Index: [0, 0]&#10;Color: (8, 48, 107)\" style=\"width: 30px; height: 30px;background-color: rgb(8, 48, 107);\"></td><td title=\"Index: [0, 1]&#10;Color: (8, 48, 107)\" style=\"width: 30px; height: 30px;background-color: rgb(8, 48, 107);\"></td><td title=\"Index: [0, 2]&#10;Color: (8, 48, 107)\" style=\"width: 30px; height: 30px;background-color: rgb(8, 48, 107);\"></td><td title=\"Index: [0, 3]&#10;Color: (8, 48, 107)\" style=\"width: 30px; height: 30px;background-color: rgb(8, 48, 107);\"></td><td title=\"Index: [0, 4]&#10;Color: (148, 196, 223)\" style=\"width: 30px; height: 30px;background-color: rgb(148, 196, 223);\"></td><td title=\"Index: [0, 5]&#10;Color: (148, 196, 223)\" style=\"width: 30px; height: 30px;background-color: rgb(148, 196, 223);\"></td><td title=\"Index: [0, 6]&#10;Color: (148, 196, 223)\" style=\"width: 30px; height: 30px;background-color: rgb(148, 196, 223);\"></td><td title=\"Index: [0, 7]&#10;Color: (148, 196, 223)\" style=\"width: 30px; height: 30px;background-color: rgb(148, 196, 223);\"></td><td title=\"Index: [0, 8]&#10;Color: (148, 196, 223)\" style=\"width: 30px; height: 30px;background-color: rgb(148, 196, 223);\"></td><td title=\"Index: [0, 9]&#10;Color: (148, 196, 223)\" style=\"width: 30px; height: 30px;background-color: rgb(148, 196, 223);\"></td><td title=\"Index: [0, 10]&#10;Color: (148, 196, 223)\" style=\"width: 30px; height: 30px;background-color: rgb(148, 196, 223);\"></td></tr><tr><td title=\"Index: [1, 0]&#10;Color: (8, 48, 107)\" style=\"width: 30px; height: 30px;background-color: rgb(8, 48, 107);\"></td><td title=\"Index: [1, 1]&#10;Color: (8, 48, 107)\" style=\"width: 30px; height: 30px;background-color: rgb(8, 48, 107);\"></td><td title=\"Index: [1, 2]&#10;Color: (8, 48, 107)\" style=\"width: 30px; height: 30px;background-color: rgb(8, 48, 107);\"></td><td title=\"Index: [1, 3]&#10;Color: (8, 48, 107)\" style=\"width: 30px; height: 30px;background-color: rgb(8, 48, 107);\"></td><td title=\"Index: [1, 4]&#10;Color: (247, 251, 255)\" style=\"width: 30px; height: 30px;background-color: rgb(247, 251, 255);\"></td><td title=\"Index: [1, 5]&#10;Color: (247, 251, 255)\" style=\"width: 30px; height: 30px;background-color: rgb(247, 251, 255);\"></td><td title=\"Index: [1, 6]&#10;Color: (247, 251, 255)\" style=\"width: 30px; height: 30px;background-color: rgb(247, 251, 255);\"></td><td title=\"Index: [1, 7]&#10;Color: (247, 251, 255)\" style=\"width: 30px; height: 30px;background-color: rgb(247, 251, 255);\"></td><td title=\"Index: [1, 8]&#10;Color: (247, 251, 255)\" style=\"width: 30px; height: 30px;background-color: rgb(247, 251, 255);\"></td><td title=\"Index: [1, 9]&#10;Color: (247, 251, 255)\" style=\"width: 30px; height: 30px;background-color: rgb(247, 251, 255);\"></td><td title=\"Index: [1, 10]&#10;Color: (247, 251, 255)\" style=\"width: 30px; height: 30px;background-color: rgb(247, 251, 255);\"></td></tr><tr><td title=\"Index: [2, 0]&#10;Color: (8, 48, 107)\" style=\"width: 30px; height: 30px;background-color: rgb(8, 48, 107);\"></td><td title=\"Index: [2, 1]&#10;Color: (8, 48, 107)\" style=\"width: 30px; height: 30px;background-color: rgb(8, 48, 107);\"></td><td title=\"Index: [2, 2]&#10;Color: (8, 48, 107)\" style=\"width: 30px; height: 30px;background-color: rgb(8, 48, 107);\"></td><td title=\"Index: [2, 3]&#10;Color: (8, 48, 107)\" style=\"width: 30px; height: 30px;background-color: rgb(8, 48, 107);\"></td><td title=\"Index: [2, 4]&#10;Color: (148, 196, 223)\" style=\"width: 30px; height: 30px;background-color: rgb(148, 196, 223);\"></td><td title=\"Index: [2, 5]&#10;Color: (148, 196, 223)\" style=\"width: 30px; height: 30px;background-color: rgb(148, 196, 223);\"></td><td title=\"Index: [2, 6]&#10;Color: (148, 196, 223)\" style=\"width: 30px; height: 30px;background-color: rgb(148, 196, 223);\"></td><td title=\"Index: [2, 7]&#10;Color: (148, 196, 223)\" style=\"width: 30px; height: 30px;background-color: rgb(148, 196, 223);\"></td><td title=\"Index: [2, 8]&#10;Color: (148, 196, 223)\" style=\"width: 30px; height: 30px;background-color: rgb(148, 196, 223);\"></td><td title=\"Index: [2, 9]&#10;Color: (148, 196, 223)\" style=\"width: 30px; height: 30px;background-color: rgb(148, 196, 223);\"></td><td title=\"Index: [2, 10]&#10;Color: (148, 196, 223)\" style=\"width: 30px; height: 30px;background-color: rgb(148, 196, 223);\"></td></tr><tr><td title=\"Index: [3, 0]&#10;Color: (8, 48, 107)\" style=\"width: 30px; height: 30px;background-color: rgb(8, 48, 107);\"></td><td title=\"Index: [3, 1]&#10;Color: (8, 48, 107)\" style=\"width: 30px; height: 30px;background-color: rgb(8, 48, 107);\"></td><td title=\"Index: [3, 2]&#10;Color: (8, 48, 107)\" style=\"width: 30px; height: 30px;background-color: rgb(8, 48, 107);\"></td><td title=\"Index: [3, 3]&#10;Color: (8, 48, 107)\" style=\"width: 30px; height: 30px;background-color: rgb(8, 48, 107);\"></td><td title=\"Index: [3, 4]&#10;Color: (247, 251, 255)\" style=\"width: 30px; height: 30px;background-color: rgb(247, 251, 255);\"></td><td title=\"Index: [3, 5]&#10;Color: (247, 251, 255)\" style=\"width: 30px; height: 30px;background-color: rgb(247, 251, 255);\"></td><td title=\"Index: [3, 6]&#10;Color: (247, 251, 255)\" style=\"width: 30px; height: 30px;background-color: rgb(247, 251, 255);\"></td><td title=\"Index: [3, 7]&#10;Color: (247, 251, 255)\" style=\"width: 30px; height: 30px;background-color: rgb(247, 251, 255);\"></td><td title=\"Index: [3, 8]&#10;Color: (247, 251, 255)\" style=\"width: 30px; height: 30px;background-color: rgb(247, 251, 255);\"></td><td title=\"Index: [3, 9]&#10;Color: (247, 251, 255)\" style=\"width: 30px; height: 30px;background-color: rgb(247, 251, 255);\"></td><td title=\"Index: [3, 10]&#10;Color: (247, 251, 255)\" style=\"width: 30px; height: 30px;background-color: rgb(247, 251, 255);\"></td></tr><tr><td title=\"Index: [4, 0]&#10;Color: (148, 196, 223)\" style=\"width: 30px; height: 30px;background-color: rgb(148, 196, 223);\"></td><td title=\"Index: [4, 1]&#10;Color: (148, 196, 223)\" style=\"width: 30px; height: 30px;background-color: rgb(148, 196, 223);\"></td><td title=\"Index: [4, 2]&#10;Color: (148, 196, 223)\" style=\"width: 30px; height: 30px;background-color: rgb(148, 196, 223);\"></td><td title=\"Index: [4, 3]&#10;Color: (148, 196, 223)\" style=\"width: 30px; height: 30px;background-color: rgb(148, 196, 223);\"></td><td title=\"Index: [4, 4]&#10;Color: (148, 196, 223)\" style=\"width: 30px; height: 30px;background-color: rgb(148, 196, 223);\"></td><td title=\"Index: [4, 5]&#10;Color: (148, 196, 223)\" style=\"width: 30px; height: 30px;background-color: rgb(148, 196, 223);\"></td><td title=\"Index: [4, 6]&#10;Color: (148, 196, 223)\" style=\"width: 30px; height: 30px;background-color: rgb(148, 196, 223);\"></td><td title=\"Index: [4, 7]&#10;Color: (148, 196, 223)\" style=\"width: 30px; height: 30px;background-color: rgb(148, 196, 223);\"></td><td title=\"Index: [4, 8]&#10;Color: (148, 196, 223)\" style=\"width: 30px; height: 30px;background-color: rgb(148, 196, 223);\"></td><td title=\"Index: [4, 9]&#10;Color: (148, 196, 223)\" style=\"width: 30px; height: 30px;background-color: rgb(148, 196, 223);\"></td><td title=\"Index: [4, 10]&#10;Color: (148, 196, 223)\" style=\"width: 30px; height: 30px;background-color: rgb(148, 196, 223);\"></td></tr><tr><td title=\"Index: [5, 0]&#10;Color: (247, 251, 255)\" style=\"width: 30px; height: 30px;background-color: rgb(247, 251, 255);\"></td><td title=\"Index: [5, 1]&#10;Color: (247, 251, 255)\" style=\"width: 30px; height: 30px;background-color: rgb(247, 251, 255);\"></td><td title=\"Index: [5, 2]&#10;Color: (247, 251, 255)\" style=\"width: 30px; height: 30px;background-color: rgb(247, 251, 255);\"></td><td title=\"Index: [5, 3]&#10;Color: (247, 251, 255)\" style=\"width: 30px; height: 30px;background-color: rgb(247, 251, 255);\"></td><td title=\"Index: [5, 4]&#10;Color: (247, 251, 255)\" style=\"width: 30px; height: 30px;background-color: rgb(247, 251, 255);\"></td><td title=\"Index: [5, 5]&#10;Color: (247, 251, 255)\" style=\"width: 30px; height: 30px;background-color: rgb(247, 251, 255);\"></td><td title=\"Index: [5, 6]&#10;Color: (247, 251, 255)\" style=\"width: 30px; height: 30px;background-color: rgb(247, 251, 255);\"></td><td title=\"Index: [5, 7]&#10;Color: (247, 251, 255)\" style=\"width: 30px; height: 30px;background-color: rgb(247, 251, 255);\"></td><td title=\"Index: [5, 8]&#10;Color: (247, 251, 255)\" style=\"width: 30px; height: 30px;background-color: rgb(247, 251, 255);\"></td><td title=\"Index: [5, 9]&#10;Color: (247, 251, 255)\" style=\"width: 30px; height: 30px;background-color: rgb(247, 251, 255);\"></td><td title=\"Index: [5, 10]&#10;Color: (247, 251, 255)\" style=\"width: 30px; height: 30px;background-color: rgb(247, 251, 255);\"></td></tr><tr><td title=\"Index: [6, 0]&#10;Color: (148, 196, 223)\" style=\"width: 30px; height: 30px;background-color: rgb(148, 196, 223);\"></td><td title=\"Index: [6, 1]&#10;Color: (148, 196, 223)\" style=\"width: 30px; height: 30px;background-color: rgb(148, 196, 223);\"></td><td title=\"Index: [6, 2]&#10;Color: (148, 196, 223)\" style=\"width: 30px; height: 30px;background-color: rgb(148, 196, 223);\"></td><td title=\"Index: [6, 3]&#10;Color: (148, 196, 223)\" style=\"width: 30px; height: 30px;background-color: rgb(148, 196, 223);\"></td><td title=\"Index: [6, 4]&#10;Color: (148, 196, 223)\" style=\"width: 30px; height: 30px;background-color: rgb(148, 196, 223);\"></td><td title=\"Index: [6, 5]&#10;Color: (148, 196, 223)\" style=\"width: 30px; height: 30px;background-color: rgb(148, 196, 223);\"></td><td title=\"Index: [6, 6]&#10;Color: (148, 196, 223)\" style=\"width: 30px; height: 30px;background-color: rgb(148, 196, 223);\"></td><td title=\"Index: [6, 7]&#10;Color: (148, 196, 223)\" style=\"width: 30px; height: 30px;background-color: rgb(148, 196, 223);\"></td><td title=\"Index: [6, 8]&#10;Color: (148, 196, 223)\" style=\"width: 30px; height: 30px;background-color: rgb(148, 196, 223);\"></td><td title=\"Index: [6, 9]&#10;Color: (148, 196, 223)\" style=\"width: 30px; height: 30px;background-color: rgb(148, 196, 223);\"></td><td title=\"Index: [6, 10]&#10;Color: (148, 196, 223)\" style=\"width: 30px; height: 30px;background-color: rgb(148, 196, 223);\"></td></tr><tr><td title=\"Index: [7, 0]&#10;Color: (247, 251, 255)\" style=\"width: 30px; height: 30px;background-color: rgb(247, 251, 255);\"></td><td title=\"Index: [7, 1]&#10;Color: (247, 251, 255)\" style=\"width: 30px; height: 30px;background-color: rgb(247, 251, 255);\"></td><td title=\"Index: [7, 2]&#10;Color: (247, 251, 255)\" style=\"width: 30px; height: 30px;background-color: rgb(247, 251, 255);\"></td><td title=\"Index: [7, 3]&#10;Color: (247, 251, 255)\" style=\"width: 30px; height: 30px;background-color: rgb(247, 251, 255);\"></td><td title=\"Index: [7, 4]&#10;Color: (247, 251, 255)\" style=\"width: 30px; height: 30px;background-color: rgb(247, 251, 255);\"></td><td title=\"Index: [7, 5]&#10;Color: (247, 251, 255)\" style=\"width: 30px; height: 30px;background-color: rgb(247, 251, 255);\"></td><td title=\"Index: [7, 6]&#10;Color: (247, 251, 255)\" style=\"width: 30px; height: 30px;background-color: rgb(247, 251, 255);\"></td><td title=\"Index: [7, 7]&#10;Color: (247, 251, 255)\" style=\"width: 30px; height: 30px;background-color: rgb(247, 251, 255);\"></td><td title=\"Index: [7, 8]&#10;Color: (247, 251, 255)\" style=\"width: 30px; height: 30px;background-color: rgb(247, 251, 255);\"></td><td title=\"Index: [7, 9]&#10;Color: (247, 251, 255)\" style=\"width: 30px; height: 30px;background-color: rgb(247, 251, 255);\"></td><td title=\"Index: [7, 10]&#10;Color: (247, 251, 255)\" style=\"width: 30px; height: 30px;background-color: rgb(247, 251, 255);\"></td></tr></tbody></table>"
      ],
      "text/plain": [
       "<ipythonblocks.ipythonblocks.BlockGrid at 0x7fab6ae399d0>"
      ]
     },
     "execution_count": 38,
     "metadata": {},
     "output_type": "execute_result"
    }
   ],
   "source": [
    "va.vizarray(b)"
   ]
  },
  {
   "cell_type": "code",
   "execution_count": 39,
   "metadata": {
    "collapsed": false
   },
   "outputs": [
    {
     "data": {
      "text/plain": [
       "((8, 11), 2, 88, 704)"
      ]
     },
     "execution_count": 39,
     "metadata": {},
     "output_type": "execute_result"
    }
   ],
   "source": [
    "b.shape,b.ndim,b.size,b.nbytes"
   ]
  },
  {
   "cell_type": "code",
   "execution_count": null,
   "metadata": {
    "collapsed": true
   },
   "outputs": [],
   "source": [
    "c = np.arange"
   ]
  }
 ],
 "metadata": {
  "kernelspec": {
   "display_name": "Python 2",
   "language": "python",
   "name": "python2"
  },
  "language_info": {
   "codemirror_mode": {
    "name": "ipython",
    "version": 2
   },
   "file_extension": ".py",
   "mimetype": "text/x-python",
   "name": "python",
   "nbconvert_exporter": "python",
   "pygments_lexer": "ipython2",
   "version": "2.7.6"
  }
 },
 "nbformat": 4,
 "nbformat_minor": 0
}
