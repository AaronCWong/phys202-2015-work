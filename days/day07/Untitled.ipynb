{
 "cells": [
  {
   "cell_type": "code",
   "execution_count": 2,
   "metadata": {
    "collapsed": true
   },
   "outputs": [],
   "source": [
    "%matplotlib inline\n",
    "import matplotlib.pyplot as plt\n",
    "import numpy as np\n"
   ]
  },
  {
   "cell_type": "code",
   "execution_count": 23,
   "metadata": {
    "collapsed": false
   },
   "outputs": [
    {
     "data": {
      "text/plain": [
       "[array([[[1],\n",
       "         [2],\n",
       "         [3],\n",
       "         [4],\n",
       "         [5]],\n",
       " \n",
       "        [[1],\n",
       "         [2],\n",
       "         [3],\n",
       "         [4],\n",
       "         [5]],\n",
       " \n",
       "        [[1],\n",
       "         [2],\n",
       "         [3],\n",
       "         [4],\n",
       "         [5]],\n",
       " \n",
       "        [[1],\n",
       "         [2],\n",
       "         [3],\n",
       "         [4],\n",
       "         [5]],\n",
       " \n",
       "        [[1],\n",
       "         [2],\n",
       "         [3],\n",
       "         [4],\n",
       "         [5]]]), array([[[ 0.07270189],\n",
       "         [ 0.07270189],\n",
       "         [ 0.07270189],\n",
       "         [ 0.07270189],\n",
       "         [ 0.07270189]],\n",
       " \n",
       "        [[-2.97063253],\n",
       "         [-2.97063253],\n",
       "         [-2.97063253],\n",
       "         [-2.97063253],\n",
       "         [-2.97063253]],\n",
       " \n",
       "        [[-1.74260587],\n",
       "         [-1.74260587],\n",
       "         [-1.74260587],\n",
       "         [-1.74260587],\n",
       "         [-1.74260587]],\n",
       " \n",
       "        [[ 0.4586156 ],\n",
       "         [ 0.4586156 ],\n",
       "         [ 0.4586156 ],\n",
       "         [ 0.4586156 ],\n",
       "         [ 0.4586156 ]],\n",
       " \n",
       "        [[ 0.10201817],\n",
       "         [ 0.10201817],\n",
       "         [ 0.10201817],\n",
       "         [ 0.10201817],\n",
       "         [ 0.10201817]]]), array([[[3],\n",
       "         [3],\n",
       "         [3],\n",
       "         [3],\n",
       "         [3]],\n",
       " \n",
       "        [[3],\n",
       "         [3],\n",
       "         [3],\n",
       "         [3],\n",
       "         [3]],\n",
       " \n",
       "        [[3],\n",
       "         [3],\n",
       "         [3],\n",
       "         [3],\n",
       "         [3]],\n",
       " \n",
       "        [[3],\n",
       "         [3],\n",
       "         [3],\n",
       "         [3],\n",
       "         [3]],\n",
       " \n",
       "        [[3],\n",
       "         [3],\n",
       "         [3],\n",
       "         [3],\n",
       "         [3]]])]"
      ]
     },
     "execution_count": 23,
     "metadata": {},
     "output_type": "execute_result"
    }
   ],
   "source": [
    "x = np.random.randn(5)\n",
    "y = np.array([1,2,3,4,5])\n",
    "np.meshgrid(y,x,3)"
   ]
  },
  {
   "cell_type": "code",
   "execution_count": null,
   "metadata": {
    "collapsed": true
   },
   "outputs": [],
   "source": []
  }
 ],
 "metadata": {
  "kernelspec": {
   "display_name": "Python 3",
   "language": "python",
   "name": "python3"
  },
  "language_info": {
   "codemirror_mode": {
    "name": "ipython",
    "version": 3
   },
   "file_extension": ".py",
   "mimetype": "text/x-python",
   "name": "python",
   "nbconvert_exporter": "python",
   "pygments_lexer": "ipython3",
   "version": "3.4.0"
  }
 },
 "nbformat": 4,
 "nbformat_minor": 0
}
